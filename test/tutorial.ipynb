{
 "cells": [
  {
   "cell_type": "code",
   "execution_count": 1,
   "id": "c57dd8d3",
   "metadata": {},
   "outputs": [
    {
     "name": "stderr",
     "output_type": "stream",
     "text": [
      "Intel(R) Extension for Scikit-learn* enabled (https://github.com/intel/scikit-learn-intelex)\n"
     ]
    }
   ],
   "source": [
    "import numpy as np\n",
    "import pandas as pd\n",
    "import pickle\n",
    "from time import time\n",
    "from scipy.stats import spearmanr, gamma, poisson\n",
    "from anndata import AnnData, read_h5ad\n",
    "import scanpy as sc\n",
    "from scanpy import read\n",
    "import torch\n",
    "from torch.utils.data import DataLoader, TensorDataset\n",
    "from torch import tensor\n",
    "from torch.cuda import is_available\n",
    "from scMMT.scMMT_API import scMMT_API\n",
    "from sklearn.metrics import f1_score, accuracy_score\n",
    "import warnings\n",
    "warnings.filterwarnings(\"ignore\")"
   ]
  },
  {
   "cell_type": "code",
   "execution_count": 2,
   "id": "13ebaa09",
   "metadata": {},
   "outputs": [],
   "source": [
    "seed = 5\n",
    "torch.manual_seed(seed)\n",
    "torch.cuda.manual_seed(seed) \n",
    "torch.cuda.manual_seed_all(seed)  # if you are using multi-GPU\n",
    "np.random.seed(seed)"
   ]
  },
  {
   "cell_type": "markdown",
   "id": "51071c4d",
   "metadata": {},
   "source": [
    "### Data preprocessing"
   ]
  },
  {
   "cell_type": "code",
   "execution_count": 3,
   "id": "f2767d0a",
   "metadata": {},
   "outputs": [],
   "source": [
    "# Read in Raw Data\n",
    "adata_gene = sc.read(\"./pbmc/pbmc_gene.h5ad\")\n",
    "adata_protein = sc.read(\"./pbmc/pbmc_protein.h5ad\")"
   ]
  },
  {
   "cell_type": "code",
   "execution_count": 4,
   "id": "a84a3e6c",
   "metadata": {},
   "outputs": [],
   "source": [
    "adata_gene.X = adata_gene.X.toarray()\n",
    "adata_protein.X = adata_protein.X.toarray()"
   ]
  },
  {
   "cell_type": "code",
   "execution_count": 5,
   "id": "cdcdab33",
   "metadata": {},
   "outputs": [],
   "source": [
    "# This is the protein processing process, which can be switched to any processing method\n",
    "sc.pp.normalize_total(adata_protein)\n",
    "sc.pp.log1p(adata_protein)\n",
    "patients = np.unique(adata_protein.obs['donor'].values)\n",
    "for patient in patients:\n",
    "    indices = [x == patient for x in adata_protein.obs['donor']]\n",
    "    sub_adata = adata_protein[indices]\n",
    "    sc.pp.scale(sub_adata)\n",
    "    adata_protein[indices] = sub_adata.X"
   ]
  },
  {
   "cell_type": "code",
   "execution_count": 6,
   "id": "ce3af7d2",
   "metadata": {},
   "outputs": [],
   "source": [
    "# Create training and testing dataset\n",
    "train_bool = [x in ['P1', 'P3', 'P4', 'P7'] for x in adata_protein.obs['donor']]\n",
    "adata_gene_train = adata_gene[train_bool].copy()\n",
    "adata_protein_train = adata_protein[train_bool].copy()\n",
    "adata_gene_test = adata_gene[np.invert(train_bool)].copy()\n",
    "adata_protein_test = adata_protein[np.invert(train_bool)].copy()"
   ]
  },
  {
   "cell_type": "markdown",
   "id": "822e3911",
   "metadata": {},
   "source": [
    "### Train scMMT model"
   ]
  },
  {
   "cell_type": "code",
   "execution_count": 7,
   "id": "22fc3576",
   "metadata": {},
   "outputs": [
    {
     "name": "stdout",
     "output_type": "stream",
     "text": [
      "Searching for GPU\n",
      "GPU detected, using GPU\n",
      "\n",
      "Normalizing Training Cells\n",
      "Normalizing Testing Cells\n",
      "\n",
      "Log-Normalizing Training Data\n",
      "Log-Normalizing Testing Data\n",
      "\n",
      "combat\n",
      "\n",
      "TSVD...\n",
      "\n",
      "FA ...\n",
      "\n",
      "Finding HVGs\n",
      "\n",
      "Normalizing Gene Training Data by Batch\n",
      "\n",
      "Normalizing Gene Testing Data by Batch\n"
     ]
    }
   ],
   "source": [
    "scMMT = scMMT_API(    gene_trainsets = [adata_gene_train], protein_trainsets = [adata_protein_train], gene_test = adata_gene_test, \n",
    "                      train_batchkeys = ['donor'], test_batchkey = 'donor',\n",
    "                      log_normalize = True,            # Is scRNA seq standardized for log\n",
    "                      type_key = 'celltype.l3',        # Keywords representing cell types (in protein dataset)\n",
    "                      data_dir=\"preprocess_data_l3.pkl\",  # Save path for processed data\n",
    "                      data_load=False,                # Do you want to import existing processed data\n",
    "                      dataset_batch = True,           # Is there a batch effect in the training set and testing machine\n",
    "                      log_weight=3,                   # Log weights for different cell types\n",
    "                      val_split = None,               # Do you need to divide the validation set according to the distribution of the test set\n",
    "                      min_cells = 0,                  # Minimum cell count filtering\n",
    "                      min_genes = 0,                  # Minimum number of genes filtering\n",
    "                      n_svd = 300,                    # Dimension obtained using Tsvd dimensionality reduction\n",
    "                      n_fa=180,                       # Dimension obtained by using FA dimensionality reduction\n",
    "                      n_hvg=550,                      # Number of high variants obtained through screening\n",
    "                     )"
   ]
  },
  {
   "cell_type": "markdown",
   "id": "0173032a",
   "metadata": {},
   "source": [
    "##### *label_smoothing: This value is related to the probability of correct data annotation and the number of cell types. Generally speaking, the poorer the quality of data annotation and the more cell types there are, the larger the value of label smoothing should be. The dataset used here has a large number of data types, with 58 types. Moreover, the reference dataset did not provide accurate annotations for these 58 cell types, so a larger value of 0.4 was chosen"
   ]
  },
  {
   "cell_type": "code",
   "execution_count": 8,
   "id": "c0493a62",
   "metadata": {},
   "outputs": [
    {
     "name": "stdout",
     "output_type": "stream",
     "text": [
      "Epoch 0 validation accuracy = 0.897,mseloss=0.760\n",
      "Epoch 1 validation accuracy = 0.905,mseloss=0.702\n",
      "Epoch 2 validation accuracy = 0.914,mseloss=0.696\n",
      "Epoch 3 validation accuracy = 0.912,mseloss=0.689\n",
      "Epoch 4 validation accuracy = 0.911,mseloss=0.689\n",
      "Epoch 5 validation accuracy = 0.901,mseloss=0.685\n",
      "Epoch 6 validation accuracy = 0.907,mseloss=0.688\n",
      "Epoch 7 validation accuracy = 0.906,mseloss=0.688\n",
      "Epoch 8 validation accuracy = 0.905,mseloss=0.692\n",
      "Decaying loss to 0.0001\n",
      "Epoch 9 validation accuracy = 0.918,mseloss=0.665\n",
      "Epoch 10 validation accuracy = 0.920,mseloss=0.663\n",
      "Epoch 11 validation accuracy = 0.921,mseloss=0.663\n",
      "Epoch 12 validation accuracy = 0.922,mseloss=0.662\n",
      "Epoch 13 validation accuracy = 0.922,mseloss=0.662\n",
      "Epoch 14 validation accuracy = 0.921,mseloss=0.662\n",
      "Epoch 15 validation accuracy = 0.919,mseloss=0.666\n",
      "Epoch 16 validation accuracy = 0.922,mseloss=0.661\n",
      "Epoch 17 validation accuracy = 0.920,mseloss=0.662\n",
      "Epoch 18 validation accuracy = 0.921,mseloss=0.660\n",
      "Epoch 19 validation accuracy = 0.921,mseloss=0.660\n",
      "Epoch 20 validation accuracy = 0.919,mseloss=0.660\n",
      "Epoch 21 validation accuracy = 0.920,mseloss=0.661\n",
      "Epoch 22 validation accuracy = 0.922,mseloss=0.664\n",
      "Epoch 23 validation accuracy = 0.921,mseloss=0.660\n",
      "Decaying loss to 1e-05\n",
      "Epoch 24 validation accuracy = 0.921,mseloss=0.665\n",
      "Epoch 25 validation accuracy = 0.921,mseloss=0.658\n",
      "Epoch 26 validation accuracy = 0.918,mseloss=0.698\n",
      "Epoch 27 validation accuracy = 0.922,mseloss=0.659\n",
      "Epoch 28 validation accuracy = 0.919,mseloss=0.660\n",
      "Epoch 29 validation accuracy = 0.922,mseloss=0.658\n",
      "Epoch 30 validation accuracy = 0.922,mseloss=0.658\n",
      "Epoch 31 validation accuracy = 0.921,mseloss=0.669\n",
      "Epoch 32 validation accuracy = 0.921,mseloss=0.658\n",
      "Epoch 33 validation accuracy = 0.923,mseloss=0.657\n",
      "Epoch 34 validation accuracy = 0.922,mseloss=0.658\n",
      "Epoch 35 validation accuracy = 0.922,mseloss=0.658\n",
      "Epoch 36 validation accuracy = 0.921,mseloss=0.660\n",
      "Epoch 37 validation accuracy = 0.922,mseloss=0.659\n",
      "Epoch 38 validation accuracy = 0.922,mseloss=0.659\n",
      "Decaying loss to 1.0000000000000002e-06\n",
      "Epoch 39 validation accuracy = 0.920,mseloss=0.658\n",
      "Epoch 40 validation accuracy = 0.921,mseloss=0.660\n",
      "Epoch 41 validation accuracy = 0.922,mseloss=0.659\n",
      "Epoch 42 validation accuracy = 0.920,mseloss=0.660\n",
      "Epoch 43 validation accuracy = 0.921,mseloss=0.659\n",
      "Epoch 44 validation accuracy = 0.922,mseloss=0.658\n",
      "Decaying loss to 1.0000000000000002e-07\n",
      "Epoch 45 validation accuracy = 0.922,mseloss=0.659\n"
     ]
    }
   ],
   "source": [
    "scMMT.train(n_epochs = 100, ES_max = 12, decay_max = 6, decay_step = 0.1, lr = 10**(-3), label_smoothing=0.4, \n",
    "            h_size=600, drop_rate=0.15, n_layer=4,\n",
    "            weights_dir = \"model_weight\", load = False)"
   ]
  },
  {
   "cell_type": "markdown",
   "id": "c3c04ea2",
   "metadata": {},
   "source": [
    "### Cell annotation, protein prediction and embedding "
   ]
  },
  {
   "cell_type": "code",
   "execution_count": 9,
   "id": "75d3dd5c",
   "metadata": {},
   "outputs": [],
   "source": [
    "predicted_test = scMMT.predict()"
   ]
  },
  {
   "cell_type": "code",
   "execution_count": 10,
   "id": "61f7fd10",
   "metadata": {},
   "outputs": [
    {
     "data": {
      "text/plain": [
       "AnnData object with n_obs × n_vars = 86008 × 224\n",
       "    obs: 'nCount_ADT', 'nFeature_ADT', 'nCount_RNA', 'nFeature_RNA', 'orig.ident', 'lane', 'donor', 'time', 'celltype.l1', 'celltype.l2', 'celltype.l3', 'Phase', 'batch', 'scale_factor', 'dataset', 'transfered cell labels'"
      ]
     },
     "execution_count": 10,
     "metadata": {},
     "output_type": "execute_result"
    }
   ],
   "source": [
    "predicted_test"
   ]
  },
  {
   "cell_type": "code",
   "execution_count": 11,
   "id": "9ad7051c",
   "metadata": {},
   "outputs": [
    {
     "name": "stdout",
     "output_type": "stream",
     "text": [
      "ACC: 0.9139963724304716  F1: 0.8674924924924925\n"
     ]
    }
   ],
   "source": [
    "acc = (predicted_test.obs['transfered cell labels'] == predicted_test.obs['celltype.l3']).mean()\n",
    "f1 = f1_score(predicted_test.obs['transfered cell labels'], predicted_test.obs['celltype.l3'], average=None)\n",
    "f1_median = np.median(f1)\n",
    "print(\"ACC:\",acc,\" F1:\",f1_median)"
   ]
  },
  {
   "cell_type": "code",
   "execution_count": 12,
   "id": "318d9f73",
   "metadata": {},
   "outputs": [],
   "source": [
    "embedding = scMMT.embed()"
   ]
  },
  {
   "cell_type": "code",
   "execution_count": 13,
   "id": "1edff635",
   "metadata": {},
   "outputs": [
    {
     "data": {
      "text/plain": [
       "AnnData object with n_obs × n_vars = 161764 × 512\n",
       "    obs: 'nCount_ADT', 'nFeature_ADT', 'nCount_RNA', 'nFeature_RNA', 'orig.ident', 'lane', 'donor', 'time', 'celltype.l1', 'celltype.l2', 'celltype.l3', 'Phase', 'batch', 'dataset'"
      ]
     },
     "execution_count": 13,
     "metadata": {},
     "output_type": "execute_result"
    }
   ],
   "source": [
    "embedding"
   ]
  }
 ],
 "metadata": {
  "kernelspec": {
   "display_name": "Python 3 (ipykernel)",
   "language": "python",
   "name": "python3"
  },
  "language_info": {
   "codemirror_mode": {
    "name": "ipython",
    "version": 3
   },
   "file_extension": ".py",
   "mimetype": "text/x-python",
   "name": "python",
   "nbconvert_exporter": "python",
   "pygments_lexer": "ipython3",
   "version": "3.10.4"
  }
 },
 "nbformat": 4,
 "nbformat_minor": 5
}
